{
 "cells": [
  {
   "cell_type": "markdown",
   "id": "4249cd40-fc6b-4556-b527-c94cbf1cd2bd",
   "metadata": {},
   "source": [
    "# Given number is prime or not"
   ]
  },
  {
   "cell_type": "markdown",
   "id": "aaa23704-4a14-43aa-aaa2-825767f43085",
   "metadata": {},
   "source": [
    "**Brute Force**\n",
    "\n",
    "1)\n",
    "```python\n",
    "\tif n <= 1:\n",
    "    \treturn false\n",
    "```\n",
    "\n",
    "agar \"n\" yeh 1 ya usse chota h toh yeh prime number nahi h\n",
    "\n",
    "2)\n",
    "```python\n",
    "\tfor i in range(2, n):\n",
    "```\n",
    "\n",
    "yeh \"for\" loop iterate karega 2 se laker 'n' tak\n",
    "\n",
    "3)\n",
    "```python\n",
    "\t\tif n%i == 0:\n",
    "            return False\n",
    "```\n",
    "\n",
    "yeh \"if\" statement check karega ki n%i ka remainder kya ata h if eska reminder 0 ata h to return false hoga aur next iterator run hoga\n",
    "\n",
    "4)\n",
    "```python\n",
    "\treturn True\n",
    "```\n",
    "\n",
    "agar if statement may kai \"true\" statement show nahi hogi toh yeh ek prime number hoga"
   ]
  },
  {
   "cell_type": "code",
   "execution_count": 2,
   "id": "d4b7a4f2-db9e-4528-8b3b-b18859eb56f7",
   "metadata": {},
   "outputs": [
    {
     "name": "stdout",
     "output_type": "stream",
     "text": [
      "True\n",
      "False\n",
      "False\n"
     ]
    }
   ],
   "source": [
    "def is_prime(n):\n",
    "    if n <= 1:\n",
    "        return False\n",
    "    for i in range(2, n):\n",
    "        if n%i == 0:\n",
    "            return False\n",
    "    return True\n",
    "\n",
    "number1 = 29\n",
    "print(is_prime(number1))\n",
    "\n",
    "number1 = 4\n",
    "print(is_prime(number1))\n",
    "\n",
    "number1 = 15\n",
    "print(is_prime(number1))"
   ]
  },
  {
   "cell_type": "markdown",
   "id": "0a54ee85-27a3-4d1d-af18-9511feca2fbc",
   "metadata": {},
   "source": [
    "---"
   ]
  },
  {
   "cell_type": "markdown",
   "id": "f259700e-ae48-44b1-abca-0fc184cd9859",
   "metadata": {},
   "source": [
    "**Optimized Solution**\n",
    "\n",
    "1)\n",
    "```python\n",
    "    if n<= 1:\n",
    "        return False\n",
    "```\n",
    "\n",
    "agar \"n\" yeh 1 ya usse chota h toh yeh prime number nahi h\n",
    "\n",
    "2)\n",
    "```python\n",
    "    if n == 2 or n == 3:\n",
    "        return False\n",
    "```\n",
    "\n",
    "agar \"n == 2\" h or \"n == 3\" h toh return false karna\n",
    "\n",
    "3)\n",
    "```python\n",
    "    i = 5\n",
    "```\n",
    "yeha per \"i\" ko 5 assign karenge\n",
    "\n",
    "4) \n",
    "```python\n",
    "    while i * i <= n:\n",
    "        if n%i == 0 or n%(i+2) == 0:\n",
    "            return False\n",
    "        i += 6\n",
    "```\n",
    "yeh loop tab tak chalta hai jab tak `i * i` yeh `n` se chhota hai. loop ke ander, agar `n` ko `i` ya `i+2` se divide karne per remainder 0 ata hai, toh `n` prime number nahi hai, isliye `False` return kiya jata hai, Har iteration main, `i` ko 6 se badha diya jata hai\n",
    "\n",
    "\n",
    "```python\n",
    "\treturn True\n",
    "```\n",
    "agar loop complete hone ke baad agar koi factor nahi milta, toh `n` prime number hai aur `True` return kiya jata hai."
   ]
  },
  {
   "cell_type": "code",
   "execution_count": 6,
   "id": "ef6d0aa0-cdc0-4ff4-9c47-8368a844d6ba",
   "metadata": {},
   "outputs": [
    {
     "name": "stdout",
     "output_type": "stream",
     "text": [
      "True\n",
      "False\n",
      "True\n",
      "False\n"
     ]
    }
   ],
   "source": [
    "def is_prime_optimized(n):\n",
    "    if n<= 1:\n",
    "        return False\n",
    "    if n == 2 or n == 3:\n",
    "        return False\n",
    "\n",
    "    i = 5\n",
    "    while i * i <= n:\n",
    "        if n%i == 0 or n%(i+2) == 0:\n",
    "            return False\n",
    "        i += 6\n",
    "    return True\n",
    "\n",
    "number2 = 29\n",
    "result = is_prime_optimized(number2)\n",
    "print(result)\n",
    "\n",
    "number2 = 25\n",
    "result = is_prime_optimized(number2)\n",
    "print(result)\n",
    "\n",
    "number2 = 67\n",
    "result = is_prime_optimized(number2)\n",
    "print(result)\n",
    "\n",
    "number2 = 55\n",
    "result = is_prime_optimized(number2)\n",
    "print(result)"
   ]
  },
  {
   "cell_type": "markdown",
   "id": "56e9362b",
   "metadata": {},
   "source": [
    "---"
   ]
  },
  {
   "cell_type": "markdown",
   "id": "90d840f1-3f37-4ddc-82cc-321e5376ddcc",
   "metadata": {},
   "source": [
    "**In-built function**"
   ]
  },
  {
   "cell_type": "code",
   "execution_count": 3,
   "id": "c65f74ae-b4f9-4728-86a4-e31ac8f7bbde",
   "metadata": {},
   "outputs": [
    {
     "name": "stdout",
     "output_type": "stream",
     "text": [
      "True\n"
     ]
    }
   ],
   "source": [
    "from sympy import isprime\n",
    "\n",
    "def is_prime_inbuilt(n):\n",
    "    return isprime(n)\n",
    "\n",
    "\n",
    "number3 = 29\n",
    "print(is_prime_inbuilt(number3))"
   ]
  }
 ],
 "metadata": {
  "kernelspec": {
   "display_name": "Python 3 (ipykernel)",
   "language": "python",
   "name": "python3"
  },
  "language_info": {
   "codemirror_mode": {
    "name": "ipython",
    "version": 3
   },
   "file_extension": ".py",
   "mimetype": "text/x-python",
   "name": "python",
   "nbconvert_exporter": "python",
   "pygments_lexer": "ipython3",
   "version": "3.11.3"
  }
 },
 "nbformat": 4,
 "nbformat_minor": 5
}
