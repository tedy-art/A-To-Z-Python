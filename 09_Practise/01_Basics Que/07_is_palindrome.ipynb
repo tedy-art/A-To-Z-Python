{
 "cells": [
  {
   "cell_type": "markdown",
   "metadata": {},
   "source": [
    "# Check for Palindrome"
   ]
  },
  {
   "cell_type": "markdown",
   "metadata": {},
   "source": [
    "# test Code myself"
   ]
  },
  {
   "cell_type": "code",
   "execution_count": 2,
   "metadata": {},
   "outputs": [
    {
     "name": "stdout",
     "output_type": "stream",
     "text": [
      "madam string is palindrome.\n"
     ]
    }
   ],
   "source": [
    "n = \"madam\"\n",
    "reversed_n = n[::-1]\n",
    "\n",
    "if n == reversed_n:\n",
    "    print(n ,\"string is palindrome.\")\n",
    "else:\n",
    "    print(n ,\"string is not palindrome.\")"
   ]
  },
  {
   "cell_type": "markdown",
   "metadata": {},
   "source": [
    "# Brute Force Approach"
   ]
  },
  {
   "cell_type": "code",
   "execution_count": 6,
   "metadata": {},
   "outputs": [
    {
     "name": "stdout",
     "output_type": "stream",
     "text": [
      "T\n",
      "eT\n",
      "jeT\n",
      "ajeT\n",
      "sajeT\n",
      "False\n",
      "m\n",
      "am\n",
      "dam\n",
      "adam\n",
      "madam\n",
      "True\n"
     ]
    }
   ],
   "source": [
    "def is_palindrome(s):\n",
    "    reversed_string = \"\"\n",
    "    for char in s:\n",
    "        reversed_string = char + reversed_string\n",
    "        print(reversed_string)\n",
    "    return s == reversed_string\n",
    "\n",
    "string1 = \"Tejas\"\n",
    "print(is_palindrome(string1))\n",
    "\n",
    "string1 = \"madam\"\n",
    "print(is_palindrome(string1))\n"
   ]
  },
  {
   "cell_type": "markdown",
   "metadata": {},
   "source": [
    "# Optimized Approach"
   ]
  },
  {
   "cell_type": "code",
   "execution_count": 1,
   "metadata": {},
   "outputs": [
    {
     "name": "stdout",
     "output_type": "stream",
     "text": [
      "True\n"
     ]
    }
   ],
   "source": [
    "def isPalindrome(s):\n",
    "\tleft, right = 0, len(s)-1\n",
    "\twhile left < right:\n",
    "\t\tif s[left] != s[right]:\n",
    "\t\t\treturn False\n",
    "\t\tleft += 1\n",
    "\t\tright -= 1\n",
    "\treturn True\n",
    "\n",
    "\n",
    "string = \"madam\"\n",
    "print(isPalindrome(string))"
   ]
  },
  {
   "cell_type": "markdown",
   "metadata": {},
   "source": [
    "# in-built string"
   ]
  },
  {
   "cell_type": "code",
   "execution_count": 2,
   "metadata": {},
   "outputs": [
    {
     "name": "stdout",
     "output_type": "stream",
     "text": [
      "True\n"
     ]
    }
   ],
   "source": [
    "def isPalindrome_inbuilt(s):\n",
    "    return s == s[::-1]\n",
    "\n",
    "string = \"madam\"\n",
    "print(isPalindrome_inbuilt(string))"
   ]
  }
 ],
 "metadata": {
  "kernelspec": {
   "display_name": "venv",
   "language": "python",
   "name": "python3"
  },
  "language_info": {
   "codemirror_mode": {
    "name": "ipython",
    "version": 3
   },
   "file_extension": ".py",
   "mimetype": "text/x-python",
   "name": "python",
   "nbconvert_exporter": "python",
   "pygments_lexer": "ipython3",
   "version": "3.11.3"
  }
 },
 "nbformat": 4,
 "nbformat_minor": 2
}
