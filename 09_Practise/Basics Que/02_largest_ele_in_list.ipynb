{
 "cells": [
  {
   "cell_type": "markdown",
   "id": "13bf424a-c198-4ab5-9b8b-bd15a385157b",
   "metadata": {},
   "source": [
    "# Find the largest element in list"
   ]
  },
  {
   "cell_type": "markdown",
   "id": "07ae8f10-fd64-4f8c-bb4d-21230bb4946d",
   "metadata": {},
   "source": [
    "**Brute force**"
   ]
  },
  {
   "cell_type": "code",
   "execution_count": 5,
   "id": "6862efff-8706-4742-a00b-f3a7cb3e65b6",
   "metadata": {},
   "outputs": [
    {
     "name": "stdout",
     "output_type": "stream",
     "text": [
      "11\n",
      "8\n",
      "9\n"
     ]
    }
   ],
   "source": [
    "def find_largest_element(nums):\n",
    "    if not nums:\n",
    "        return None\n",
    "    largest = nums[0]\n",
    "    for i in range(len(nums)):\n",
    "        for j in range(len(nums)):\n",
    "            if nums[j] > largest:\n",
    "                largest = nums[j]\n",
    "    return largest\n",
    "\n",
    "numbers = [5, 6, 11, 4, 8]\n",
    "print(find_largest_element(numbers))\n",
    "\n",
    "numbers = [3, 5, 8, 4, 8]\n",
    "print(find_largest_element(numbers))\n",
    "\n",
    "numbers = [9, 8, 1, 4, 8]\n",
    "print(find_largest_element(numbers))"
   ]
  },
  {
   "cell_type": "markdown",
   "id": "88df193b-2eb8-4635-b265-8fba8abecc8a",
   "metadata": {},
   "source": [
    "---"
   ]
  },
  {
   "cell_type": "markdown",
   "id": "d46f87c1-3115-45f3-8a15-d56d777686c8",
   "metadata": {},
   "source": [
    "**Optimized Solution with for loop**"
   ]
  },
  {
   "cell_type": "code",
   "execution_count": 4,
   "id": "8b8b7bd4-b76f-4886-80f2-90f28885c9a3",
   "metadata": {},
   "outputs": [
    {
     "name": "stdout",
     "output_type": "stream",
     "text": [
      "44\n",
      "12\n",
      "14\n"
     ]
    }
   ],
   "source": [
    "def find_largest(nums):\n",
    "    if not nums:\n",
    "        return None\n",
    "    largest = nums[0]\n",
    "    for num in nums:\n",
    "        if num > largest:\n",
    "            largest = num\n",
    "    return largest\n",
    "\n",
    "numbers = [5, 6, 11, 44, 8]\n",
    "print(find_largest(numbers))\n",
    "\n",
    "numbers = [3, 5, 8, 12, 4, 8]\n",
    "print(find_largest(numbers))\n",
    "\n",
    "numbers = [9, 8, 14, 1, 4, 8]\n",
    "print(find_largest(numbers))\n"
   ]
  },
  {
   "cell_type": "markdown",
   "id": "c91ce9b5-70bf-4cc6-b9e8-30b1b7c1d876",
   "metadata": {},
   "source": [
    "**In-built function**"
   ]
  },
  {
   "cell_type": "code",
   "execution_count": 6,
   "id": "8332456d-29b4-429b-b02a-6b19daab8445",
   "metadata": {},
   "outputs": [
    {
     "name": "stdout",
     "output_type": "stream",
     "text": [
      "55\n",
      "36\n",
      "99\n"
     ]
    }
   ],
   "source": [
    "def find_largest_inbuilt(nums):\n",
    "    if not nums:\n",
    "        return None\n",
    "    return max(nums)\n",
    "\n",
    "\n",
    "numbers = [55, 6, 11, 4, 8]\n",
    "print(find_largest_inbuilt(numbers))\n",
    "\n",
    "numbers = [36, 5, 8, 4, 8]\n",
    "print(find_largest_inbuilt(numbers))\n",
    "\n",
    "numbers = [99, 8, 1, 4, 8]\n",
    "print(find_largest_inbuilt(numbers))"
   ]
  },
  {
   "cell_type": "code",
   "execution_count": null,
   "id": "c4db12f2-cc63-4715-a42a-3b355891bd35",
   "metadata": {},
   "outputs": [],
   "source": []
  }
 ],
 "metadata": {
  "kernelspec": {
   "display_name": "Python 3 (ipykernel)",
   "language": "python",
   "name": "python3"
  },
  "language_info": {
   "codemirror_mode": {
    "name": "ipython",
    "version": 3
   },
   "file_extension": ".py",
   "mimetype": "text/x-python",
   "name": "python",
   "nbconvert_exporter": "python",
   "pygments_lexer": "ipython3",
   "version": "3.11.3"
  }
 },
 "nbformat": 4,
 "nbformat_minor": 5
}
