{
 "cells": [
  {
   "cell_type": "markdown",
   "metadata": {},
   "source": [
    "# Count the occurrences of a character in a string"
   ]
  },
  {
   "cell_type": "markdown",
   "metadata": {},
   "source": [
    "# my code"
   ]
  },
  {
   "cell_type": "code",
   "execution_count": 5,
   "metadata": {},
   "outputs": [
    {
     "name": "stdout",
     "output_type": "stream",
     "text": [
      "2\n",
      "3\n",
      "4\n"
     ]
    }
   ],
   "source": [
    "def count_occurrence(s, char):\n",
    "    count = 0\n",
    "    if len(char) == 0:\n",
    "        return \"char is empty\"\n",
    "    elif len(char) > 1:\n",
    "        return \"you can only give us 1 char at a time\"\n",
    "    else:\n",
    "        for i in s:\n",
    "            if char == i:\n",
    "                count += 1\n",
    "        return count\n",
    "\n",
    "print(count_occurrence(s=\"hello world\", char=\"o\"))\n",
    "print(count_occurrence(s=\"hello world\", char=\"l\"))\n",
    "print(count_occurrence(s=\"python is easy and one of the best language.\", char=\"a\"))\n"
   ]
  },
  {
   "cell_type": "markdown",
   "metadata": {},
   "source": [
    "# brute force approah"
   ]
  },
  {
   "cell_type": "code",
   "execution_count": 8,
   "metadata": {},
   "outputs": [
    {
     "name": "stdout",
     "output_type": "stream",
     "text": [
      "2\n",
      "3\n"
     ]
    }
   ],
   "source": [
    "from numpy import char\n",
    "\n",
    "\n",
    "def count_occurrence_brute(s, char):\n",
    "    count = 0\n",
    "    for c in s:\n",
    "        if char == c:\n",
    "            count += 1\n",
    "    return count\n",
    "\n",
    "str1 = \"hello world\"\n",
    "char1 = \"o\"\n",
    "print(count_occurrence_brute(str1, char1))\n",
    "\n",
    "str1 = \"hello world\"\n",
    "char1 = \"l\"\n",
    "print(count_occurrence_brute(str1, char1))"
   ]
  },
  {
   "cell_type": "markdown",
   "metadata": {},
   "source": [
    "# Optimized Approch"
   ]
  },
  {
   "cell_type": "code",
   "execution_count": 10,
   "metadata": {},
   "outputs": [
    {
     "name": "stdout",
     "output_type": "stream",
     "text": [
      "2\n",
      "1\n"
     ]
    }
   ],
   "source": [
    "def count_occurrence_optimized(s, char):\n",
    "    return s.count(char)\n",
    "\n",
    "str2 = \"hello world\"\n",
    "char2 = \"o\"\n",
    "print(count_occurrence_brute(str2, char2))\n",
    "\n",
    "char2 = \"w\"\n",
    "print(count_occurrence_brute(str2, char2))"
   ]
  }
 ],
 "metadata": {
  "kernelspec": {
   "display_name": "venv",
   "language": "python",
   "name": "python3"
  },
  "language_info": {
   "codemirror_mode": {
    "name": "ipython",
    "version": 3
   },
   "file_extension": ".py",
   "mimetype": "text/x-python",
   "name": "python",
   "nbconvert_exporter": "python",
   "pygments_lexer": "ipython3",
   "version": "3.11.3"
  }
 },
 "nbformat": 4,
 "nbformat_minor": 2
}
