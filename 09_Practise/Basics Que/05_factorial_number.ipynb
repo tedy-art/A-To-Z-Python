{
 "cells": [
  {
   "cell_type": "markdown",
   "metadata": {},
   "source": [
    "# find the Factorial of a number"
   ]
  },
  {
   "cell_type": "code",
   "execution_count": 6,
   "metadata": {},
   "outputs": [
    {
     "name": "stdout",
     "output_type": "stream",
     "text": [
      "120\n",
      "1\n",
      "40320\n"
     ]
    }
   ],
   "source": [
    "def isfactorial(n):\n",
    "    if n == 0 or n == 1:\n",
    "        return 1\n",
    "    fact = 1\n",
    "    for i in range(2, n+1):\n",
    "        fact = fact * i\n",
    "    return fact\n",
    "\n",
    "n = 5\n",
    "print(isfactorial(n))\n",
    "\n",
    "n = 1\n",
    "print(isfactorial(n))\n",
    "\n",
    "n = 8\n",
    "print(isfactorial(n))"
   ]
  },
  {
   "cell_type": "markdown",
   "metadata": {},
   "source": [
    "# Brute Force Approach "
   ]
  },
  {
   "cell_type": "code",
   "execution_count": 7,
   "metadata": {},
   "outputs": [
    {
     "name": "stdout",
     "output_type": "stream",
     "text": [
      "120\n"
     ]
    }
   ],
   "source": [
    "def isFactorial(n):\n",
    "    if n == 0 or n == 1:\n",
    "        return 1\n",
    "    else: \n",
    "        return n * isFactorial(n - 1)\n",
    "    \n",
    "number = 5\n",
    "print(isFactorial(number))"
   ]
  }
 ],
 "metadata": {
  "kernelspec": {
   "display_name": "venv",
   "language": "python",
   "name": "python3"
  },
  "language_info": {
   "codemirror_mode": {
    "name": "ipython",
    "version": 3
   },
   "file_extension": ".py",
   "mimetype": "text/x-python",
   "name": "python",
   "nbconvert_exporter": "python",
   "pygments_lexer": "ipython3",
   "version": "3.11.3"
  }
 },
 "nbformat": 4,
 "nbformat_minor": 2
}
