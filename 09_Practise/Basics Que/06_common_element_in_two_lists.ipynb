{
 "cells": [
  {
   "cell_type": "markdown",
   "metadata": {},
   "source": [
    "# write a Python function to find common elements between two lists."
   ]
  },
  {
   "cell_type": "markdown",
   "metadata": {},
   "source": [
    "# Brute Force Approach"
   ]
  },
  {
   "cell_type": "code",
   "execution_count": 6,
   "metadata": {},
   "outputs": [
    {
     "name": "stdout",
     "output_type": "stream",
     "text": [
      "[11, 12, 13]\n",
      "one of the list is empty\n"
     ]
    }
   ],
   "source": [
    "def common_ele(l1, l2):\n",
    "    if not l1 or not l2:\n",
    "        return f\"one of the list is empty\"\n",
    "    common = []\n",
    "    for i in l1:\n",
    "        for j in l2:\n",
    "            if i == j:\n",
    "                common.append(i)\n",
    "    return common\n",
    "\n",
    "list1 = [11, 27, 12, 19, 96, 13]\n",
    "list2 = [13, 15, 11, 12, 99, 97]\n",
    "print(common_ele(list1, list2))\n",
    "\n",
    "list3 = [11, 27, 12, 19, 96, 13]\n",
    "list4 = []\n",
    "print(common_ele(list3, list4))"
   ]
  },
  {
   "cell_type": "markdown",
   "metadata": {},
   "source": [
    "# Optimized Approach"
   ]
  },
  {
   "cell_type": "code",
   "execution_count": 7,
   "metadata": {},
   "outputs": [
    {
     "name": "stdout",
     "output_type": "stream",
     "text": [
      "[4, 5]\n"
     ]
    }
   ],
   "source": [
    "def common_element(list1, list2):\n",
    "    set1 = set(list1)\n",
    "    set2 = set(list2)\n",
    "    common = list(set1.intersection(set2))\n",
    "    return common\n",
    "\n",
    "list5 = [1, 2, 3, 4, 5]\n",
    "list6 = [4, 5, 6, 7, 8]\n",
    "print(common_element(list5, list6))"
   ]
  },
  {
   "cell_type": "markdown",
   "metadata": {},
   "source": [
    "# List comprehension Approach"
   ]
  },
  {
   "cell_type": "code",
   "execution_count": 8,
   "metadata": {},
   "outputs": [
    {
     "name": "stdout",
     "output_type": "stream",
     "text": [
      "[9, 4, 5]\n"
     ]
    }
   ],
   "source": [
    "def common_element1(list1, list2):\n",
    "    common = [element for element in set(list1) if element in set(list2)]\n",
    "    return common\n",
    "\n",
    "\n",
    "list7 = [9, 1, 2, 3, 4, 5]\n",
    "list8 = [4, 5, 6, 7, 8, 9]\n",
    "print(common_element(list7, list8))"
   ]
  }
 ],
 "metadata": {
  "kernelspec": {
   "display_name": "venv",
   "language": "python",
   "name": "python3"
  },
  "language_info": {
   "codemirror_mode": {
    "name": "ipython",
    "version": 3
   },
   "file_extension": ".py",
   "mimetype": "text/x-python",
   "name": "python",
   "nbconvert_exporter": "python",
   "pygments_lexer": "ipython3",
   "version": "3.11.3"
  }
 },
 "nbformat": 4,
 "nbformat_minor": 2
}
