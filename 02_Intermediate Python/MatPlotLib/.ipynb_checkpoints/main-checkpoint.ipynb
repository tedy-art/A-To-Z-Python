{
 "cells": [
  {
   "cell_type": "markdown",
   "metadata": {},
   "source": [
    "# MatPloatLib :\n",
    "- matplotlib is an open-source drawing library that supports various drawing types.\n",
    "- you can generate plots, histograms, bar charts, and other types of charts with just a few lines of code.\n",
    "- it's often used in web application servers, shells, and python scripts."
   ]
  },
  {
   "cell_type": "code",
   "execution_count": 16,
   "metadata": {},
   "outputs": [],
   "source": [
    "import matplotlib as mpl\n",
    "import matplotlib.pyplot as plt\n",
    "import numpy as np\n",
    "import pandas as pd\n",
    "from datetime import datetime\n"
   ]
  },
  {
   "cell_type": "markdown",
   "metadata": {},
   "source": [
    "**`The DataSet :`**\n",
    "- Matplotlib is designed to work with NumPy arrays and pandas DataFrames.\n",
    "- The library makes it easy to make graphs from tabular data."
   ]
  },
  {
   "cell_type": "markdown",
   "metadata": {},
   "source": [
    "Example:\n",
    "\n",
    "we will load a `csv` file named `HistoricalPrices.csv` using pandas library and view the first row using the `.head()` method."
   ]
  },
  {
   "cell_type": "code",
   "execution_count": 17,
   "metadata": {},
   "outputs": [
    {
     "data": {
      "text/html": [
       "<div>\n",
       "<style scoped>\n",
       "    .dataframe tbody tr th:only-of-type {\n",
       "        vertical-align: middle;\n",
       "    }\n",
       "\n",
       "    .dataframe tbody tr th {\n",
       "        vertical-align: top;\n",
       "    }\n",
       "\n",
       "    .dataframe thead th {\n",
       "        text-align: right;\n",
       "    }\n",
       "</style>\n",
       "<table border=\"1\" class=\"dataframe\">\n",
       "  <thead>\n",
       "    <tr style=\"text-align: right;\">\n",
       "      <th></th>\n",
       "      <th>Date</th>\n",
       "      <th>Open</th>\n",
       "      <th>High</th>\n",
       "      <th>Low</th>\n",
       "      <th>Close</th>\n",
       "    </tr>\n",
       "  </thead>\n",
       "  <tbody>\n",
       "    <tr>\n",
       "      <th>0</th>\n",
       "      <td>04/29/24</td>\n",
       "      <td>38282.16</td>\n",
       "      <td>38406.20</td>\n",
       "      <td>38215.47</td>\n",
       "      <td>38386.09</td>\n",
       "    </tr>\n",
       "    <tr>\n",
       "      <th>1</th>\n",
       "      <td>04/26/24</td>\n",
       "      <td>38114.70</td>\n",
       "      <td>38337.64</td>\n",
       "      <td>38065.05</td>\n",
       "      <td>38239.66</td>\n",
       "    </tr>\n",
       "    <tr>\n",
       "      <th>2</th>\n",
       "      <td>04/25/24</td>\n",
       "      <td>38052.09</td>\n",
       "      <td>38157.22</td>\n",
       "      <td>37754.38</td>\n",
       "      <td>38085.80</td>\n",
       "    </tr>\n",
       "    <tr>\n",
       "      <th>3</th>\n",
       "      <td>04/24/24</td>\n",
       "      <td>38552.79</td>\n",
       "      <td>38552.79</td>\n",
       "      <td>38310.55</td>\n",
       "      <td>38460.92</td>\n",
       "    </tr>\n",
       "    <tr>\n",
       "      <th>4</th>\n",
       "      <td>04/23/24</td>\n",
       "      <td>38356.07</td>\n",
       "      <td>38561.50</td>\n",
       "      <td>38297.72</td>\n",
       "      <td>38503.69</td>\n",
       "    </tr>\n",
       "  </tbody>\n",
       "</table>\n",
       "</div>"
      ],
      "text/plain": [
       "       Date      Open      High       Low     Close\n",
       "0  04/29/24  38282.16  38406.20  38215.47  38386.09\n",
       "1  04/26/24  38114.70  38337.64  38065.05  38239.66\n",
       "2  04/25/24  38052.09  38157.22  37754.38  38085.80\n",
       "3  04/24/24  38552.79  38552.79  38310.55  38460.92\n",
       "4  04/23/24  38356.07  38561.50  38297.72  38503.69"
      ]
     },
     "execution_count": 17,
     "metadata": {},
     "output_type": "execute_result"
    }
   ],
   "source": [
    "djia_data = pd.read_csv(\"HistoricalPrices.csv\")\n",
    "djia_data.head()"
   ]
  },
  {
   "cell_type": "code",
   "execution_count": 18,
   "metadata": {},
   "outputs": [],
   "source": [
    "djia_data = djia_data.rename(columns = {' Open': 'Open', ' High': 'High', ' Low': 'Low', ' Close': 'Close'})"
   ]
  },
  {
   "cell_type": "markdown",
   "metadata": {},
   "source": [
    "We also insure that the date vairable is a datetime and sort in acending order by the date. "
   ]
  },
  {
   "cell_type": "code",
   "execution_count": 19,
   "metadata": {},
   "outputs": [
    {
     "name": "stderr",
     "output_type": "stream",
     "text": [
      "C:\\Users\\HP\\AppData\\Local\\Temp\\ipykernel_15236\\220103799.py:1: UserWarning: Could not infer format, so each element will be parsed individually, falling back to `dateutil`. To ensure parsing is consistent and as-expected, please specify a format.\n",
      "  djia_data['Date'] = pd.to_datetime(djia_data['Date'])\n"
     ]
    }
   ],
   "source": [
    "djia_data['Date'] = pd.to_datetime(djia_data['Date'])\n",
    "djia_data = djia_data.sort_values(by = 'Date')"
   ]
  },
  {
   "cell_type": "markdown",
   "metadata": {},
   "source": [
    "**Drawing Line Plots :**\n",
    "\n",
    "- The first plot we will create will be a line plot.\n",
    "    - `the line plot` are very imp plot as they do a great job of displaying time seris data.\n",
    "    - it is often important to visualize how KPIs change over time to understand patterns in data that can be actioned on."
   ]
  },
  {
   "cell_type": "markdown",
   "metadata": {},
   "source": [
    "*Line plot with a single Line:*\n",
    "- show how to draw a simple line plot with single line.\n",
    "    - make sure to emphasize the use of `plt.show()` so the plot actually displays.\n",
    "- provide brif commentary on the plot, including interpretation.\n",
    "\n",
    "*matplotlib.pyplot.plot() :*\n",
    "- the `plot()` method where the first argument is x variable and the second variable is the y variable in our plot.\n",
    "- Whenever we create a plot, we need to make sure to call `plt.show()` to ensure we have created."
   ]
  },
  {
   "cell_type": "code",
   "execution_count": 20,
   "metadata": {},
   "outputs": [
    {
     "data": {
      "image/png": "[encoded data removed]",
      "text/plain": [
       "<Figure size 640x480 with 1 Axes>"
      ]
     },
     "metadata": {},
     "output_type": "display_data"
    }
   ],
   "source": [
    "plt.plot(djia_data['Date'], djia_data['Close'])\n",
    "plt.show()"
   ]
  },
  {
   "cell_type": "code",
   "execution_count": null,
   "metadata": {},
   "outputs": [],
   "source": []
  }
 ],
 "metadata": {
  "kernelspec": {
   "display_name": "venv",
   "language": "python",
   "name": "python3"
  },
  "language_info": {
   "codemirror_mode": {
    "name": "ipython",
    "version": 3
   },
   "file_extension": ".py",
   "mimetype": "text/x-python",
   "name": "python",
   "nbconvert_exporter": "python",
   "pygments_lexer": "ipython3",
   "version": "3.11.3"
  }
 },
 "nbformat": 4,
 "nbformat_minor": 2
}
