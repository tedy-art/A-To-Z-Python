{
 "cells": [
  {
   "cell_type": "markdown",
   "metadata": {},
   "source": [
    "# Generators\n",
    "\n",
    "Generators are very easy to implement, but a bit difficult to understand.\n",
    "\n",
    "Generators are used to create iterators, but with different approach.\n",
    "\n",
    "Generators are simple functions which returns an itrable set if items, one at a time, in a special way.\n",
    "\n",
    "When iterator over set of item starts using the for statement, the generator is run.\n",
    "\n",
    "Once the generator's function code reaches a \"yield\" statement, the generator yields its execution back to the for loop, returning a new value from the set.\n",
    "\n",
    "The generator function can generate as many values(possibly infinite) as it wants, yielding each one in it turn."
   ]
  },
  {
   "cell_type": "code",
   "execution_count": 5,
   "metadata": {},
   "outputs": [
    {
     "name": "stdout",
     "output_type": "stream",
     "text": [
      "And the next number is .. 2\n",
      "And the next number is .. 9\n",
      "And the next number is .. 22\n",
      "And the next number is .. 12\n",
      "And the next number is .. 16\n",
      "And the next number is .. 28\n",
      "And the next number is .. 13\n"
     ]
    }
   ],
   "source": [
    "import random\n",
    "\n",
    "def lottery():\n",
    "    for i in range(6):\n",
    "        yield random.randint(1, 40)\n",
    "    yield random.randint(1, 15)\n",
    "\n",
    "for random_number in lottery():\n",
    "    print(\"And the next number is .. %d\" %(random_number))    "
   ]
  },
  {
   "cell_type": "markdown",
   "metadata": {},
   "source": [
    "there is a lot of complexity in creating iteration in python, we need to implement `__iter__()` and `__next__()` method to keep track of internal states."
   ]
  },
  {
   "cell_type": "markdown",
   "metadata": {},
   "source": [
    "*How to create Generator function in python:*"
   ]
  },
  {
   "cell_type": "code",
   "execution_count": 7,
   "metadata": {},
   "outputs": [
    {
     "name": "stdout",
     "output_type": "stream",
     "text": [
      "0\n",
      "2\n",
      "4\n",
      "6\n",
      "8\n"
     ]
    }
   ],
   "source": [
    "# Creating simple function for Generator\n",
    "def simple():\n",
    "    for i in range(10):\n",
    "        if (i%2==0):\n",
    "\t        yield i # instance of retuen we use yield keyword\n",
    "        \n",
    "\n",
    "for i in simple():\n",
    "    print(i)"
   ]
  },
  {
   "cell_type": "markdown",
   "metadata": {},
   "source": [
    "`yield` vs `return`\n",
    "\n",
    "| Feature                | `return`                           | `yield`                                 |\n",
    "|------------------------|------------------------------------|-----------------------------------------|\n",
    "| **Definition**         | Terminates the function and sends a value back to the caller. | Pauses the function, saving its state, and sends a value back to the caller. The function can resume where it left off. |\n",
    "| **Use Case**           | Used in regular functions.         | Used in generator functions.            |\n",
    "| **Execution**          | The function stops executing once `return` is called. | The function retains its state and can continue executing from the point it yielded. |\n",
    "| **Value Generation**   | Generates a single value and exits. | Generates a sequence of values over time, one at a time. |\n",
    "| **Memory Efficiency**  | Can be less memory efficient if it returns large data sets all at once. | More memory efficient for generating large sequences because it yields one item at a time. |\n",
    "| **Reusability**        | The function starts fresh each time it is called. | The function can resume from where it left off, maintaining its context and local variables. |\n",
    "| **Example**            | `return x`                         | `yield x`                               |\n",
    "\n",
    "### Simple Explanation with Analogies\n",
    "\n",
    "- **`return`**: Think of `return` like finishing a race and crossing the finish line. Once you cross it, the race is over, and you get your result. The function completes and exits, providing the final outcome.\n",
    "  \n",
    "  ```python\n",
    "  def add(a, b):\n",
    "      return a + b\n",
    "\n",
    "  result = add(3, 5)  # Returns 8\n",
    "  ```\n",
    "\n",
    "- **`yield`**: Imagine `yield` as taking a break during a long journey. You stop at various checkpoints, but you don’t finish the journey completely. Instead, you can resume from where you left off whenever you want. This is useful for generating a series of results over time without consuming a lot of memory.\n",
    "  \n",
    "  ```python\n",
    "  def count_up_to(max):\n",
    "      counter = 1\n",
    "      while counter <= max:\n",
    "          yield counter\n",
    "          counter += 1\n",
    "\n",
    "  for number in count_up_to(5):\n",
    "      print(number)  # Prints 1, 2, 3, 4, 5 one at a time\n",
    "  ```\n",
    "\n",
    "### Practice Questions\n",
    "\n",
    "1. **Basic Understanding**: What does the `return` statement do in a function?\n",
    "2. **Generator Function**: Write a simple generator function using `yield` to generate the first 5 even numbers.\n",
    "3. **Memory Efficiency**: Explain why `yield` can be more memory efficient than `return` for generating large sequences.\n",
    "4. **State Retention**: How does a function using `yield` retain its state between calls?\n",
    "5. **Use Case Identification**: Provide a scenario where using `yield` would be more beneficial than `return`.\n",
    "\n",
    "Feel free to try answering these questions or ask for more details on any of the points!"
   ]
  },
  {
   "cell_type": "code",
   "execution_count": null,
   "metadata": {},
   "outputs": [],
   "source": []
  }
 ],
 "metadata": {
  "kernelspec": {
   "display_name": "venv",
   "language": "python",
   "name": "python3"
  },
  "language_info": {
   "codemirror_mode": {
    "name": "ipython",
    "version": 3
   },
   "file_extension": ".py",
   "mimetype": "text/x-python",
   "name": "python",
   "nbconvert_exporter": "python",
   "pygments_lexer": "ipython3",
   "version": "3.11.3"
  }
 },
 "nbformat": 4,
 "nbformat_minor": 2
}
