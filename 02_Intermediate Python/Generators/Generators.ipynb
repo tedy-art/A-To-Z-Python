{
 "cells": [
  {
   "cell_type": "markdown",
   "metadata": {},
   "source": [
    "# Generators\n",
    "\n",
    "Generators are very easy to implement, but a bit difficult to understand.\n",
    "\n",
    "Generators are used to create iterators, but with different approach.\n",
    "\n",
    "Generators are simple functions which returns an itrable set if items, one at a time, in a special way.\n",
    "\n",
    "When iterator over set of item starts using the for statement, the generator is run.\n",
    "\n",
    "Once the generator's function code reaches a \"yield\" statement, the generator yields its execution back to the for loop, returning a new value from the set.\n",
    "\n",
    "The generator function can generate as many values(possibly infinite) as it wants, yielding each one in it turn."
   ]
  },
  {
   "cell_type": "code",
   "execution_count": 1,
   "metadata": {},
   "outputs": [
    {
     "name": "stdout",
     "output_type": "stream",
     "text": [
      "And the next number is .. 24\n",
      "And the next number is .. 5\n",
      "And the next number is .. 5\n",
      "And the next number is .. 21\n",
      "And the next number is .. 29\n",
      "And the next number is .. 19\n",
      "And the next number is .. 9\n"
     ]
    }
   ],
   "source": [
    "import random\n",
    "\n",
    "def lottery():\n",
    "    for i in range(6):\n",
    "        yield random.randint(1, 40)\n",
    "    yield random.randint(1, 15)\n",
    "\n",
    "for random_number in lottery():\n",
    "    print(\"And the next number is .. %d\" %(random_number))    "
   ]
  },
  {
   "cell_type": "markdown",
   "metadata": {},
   "source": [
    "there is a lot of complexity in creating iteration in python, we need to implement `__iter__()` and `__next__()` method to keep track of internal states."
   ]
  },
  {
   "cell_type": "markdown",
   "metadata": {},
   "source": [
    "*How to create Generator function in python:*"
   ]
  },
  {
   "cell_type": "code",
   "execution_count": 2,
   "metadata": {},
   "outputs": [
    {
     "name": "stdout",
     "output_type": "stream",
     "text": [
      "0\n",
      "2\n",
      "4\n",
      "6\n",
      "8\n"
     ]
    }
   ],
   "source": [
    "# Creating simple function for Generator\n",
    "def simple():\n",
    "    for i in range(10):\n",
    "        if (i%2==0):\n",
    "\t        yield i # in simple function we use retuen but in generator function we use yield keyword to get called value.\n",
    "             \n",
    "        \n",
    "for i in simple():\n",
    "    print(i)"
   ]
  },
  {
   "cell_type": "markdown",
   "metadata": {},
   "source": [
    "### Difference between Generator function and Normal function\n",
    "\n",
    "| Feature              | Generator Function                            | Normal Function                                  |\n",
    "|----------------------|-----------------------------------------------|--------------------------------------------------|\n",
    "| Definition           | Uses `yield`                                  | Uses `return`                                    |\n",
    "| Execution            | Returns a generator object, lazy evaluation   | Executes fully, immediate evaluation             |\n",
    "| Memory Usage         | Memory efficient, produces values on demand   | May use more memory, stores entire result        |\n",
    "| Iteration            | Iterated using `for`, `next()`, etc.          | Iterated if returns an iterable                  |\n",
    "| State Retention      | Retains state between `yield` calls           | No state retention between calls                 |\n",
    "| Infinite Sequences   | Can represent infinite sequences              | Typically used for finite sequences              |\n"
   ]
  },
  {
   "cell_type": "markdown",
   "metadata": {},
   "source": [
    "### `yield` vs `return`\n",
    "\n",
    "| Feature                | `return`                           | `yield`                                 |\n",
    "|------------------------|------------------------------------|-----------------------------------------|\n",
    "| **Definition**         | Terminates the function and sends a value back to the caller. | Pauses the function, saving its state, and sends a value back to the caller. The function can resume where it left off. |\n",
    "| **Use Case**           | Used in regular functions.         | Used in generator functions.            |\n",
    "| **Execution**          | The function stops executing once `return` is called. | The function retains its state and can continue executing from the point it yielded. |\n",
    "| **Value Generation**   | Generates a single value and exits. | Generates a sequence of values over time, one at a time. |\n",
    "| **Memory Efficiency**  | Can be less memory efficient if it returns large data sets all at once. | More memory efficient for generating large sequences because it yields one item at a time. |\n",
    "| **Reusability**        | The function starts fresh each time it is called. | The function can resume from where it left off, maintaining its context and local variables. |\n",
    "| **Example**            | `return x`                         | `yield x`                               |\n",
    "\n",
    "### Simple Explanation with Analogies\n",
    "\n",
    "- **`return`**: Think of `return` like finishing a race and crossing the finish line. Once you cross it, the race is over, and you get your result. The function completes and exits, providing the final outcome.\n",
    "  "
   ]
  },
  {
   "cell_type": "code",
   "execution_count": 3,
   "metadata": {},
   "outputs": [
    {
     "name": "stdout",
     "output_type": "stream",
     "text": [
      "8\n"
     ]
    }
   ],
   "source": [
    "def add(a, b):\n",
    "    return a + b\n",
    "\n",
    "result = add(3, 5)  # Returns 8\n",
    "print(result)"
   ]
  },
  {
   "cell_type": "markdown",
   "metadata": {},
   "source": [
    "- **`yield`**: Imagine `yield` as taking a break during a long journey. You stop at various checkpoints, but you don’t finish the journey completely. Instead, you can resume from where you left off whenever you want. This is useful for generating a series of results over time without consuming a lot of memory."
   ]
  },
  {
   "cell_type": "code",
   "execution_count": 4,
   "metadata": {},
   "outputs": [
    {
     "name": "stdout",
     "output_type": "stream",
     "text": [
      "1\n",
      "2\n",
      "3\n",
      "4\n",
      "5\n"
     ]
    }
   ],
   "source": [
    "def count_up_to(max):\n",
    "    counter = 1\n",
    "    while counter <= max:\n",
    "        yield counter\n",
    "        counter += 1\n",
    "\n",
    "for number in count_up_to(5):\n",
    "    print(number)  # Prints 1, 2, 3, 4, 5 one at a time"
   ]
  },
  {
   "cell_type": "markdown",
   "metadata": {},
   "source": [
    "### Using multiple yield statement:\n",
    "\n",
    "* mutliple yields is one of the feature of generator funtion"
   ]
  },
  {
   "cell_type": "code",
   "execution_count": 5,
   "metadata": {},
   "outputs": [
    {
     "name": "stdout",
     "output_type": "stream",
     "text": [
      "1st String\n",
      "2nd String\n",
      "3rd String\n"
     ]
    }
   ],
   "source": [
    "def multile_yields():\n",
    "\tstr1 = \"1st String\"\n",
    "\tyield str1\n",
    "\n",
    "\tstr2 = \"2nd String\"\n",
    "\tyield str2\n",
    "\n",
    "\tstr3 = \"3rd String\"\n",
    "\tyield str3\n",
    "\n",
    "yield_object = multile_yields()\n",
    "print(next(yield_object))\n",
    "print(next(yield_object))\n",
    "print(next(yield_object))\n",
    "# print(next(yield_object)) # error StopIteration"
   ]
  },
  {
   "cell_type": "markdown",
   "metadata": {},
   "source": [
    "### The `__iter__()` Method:\n",
    "\n",
    "The `__iter__()` method is a special method in python classes.it's a part of the iterator protocol, which allows objects to be iterated over using `for` loop or any other iteration context like list comprehension, map(), filter(), etc.\n",
    "\n",
    "*When you create a generator function, it automatically creates an iterator object*\n",
    "\n",
    "The __iter__() method is implicitly defined for generator functions, and it returns the generator object itself. This means that generator functions are both iterable and iterators."
   ]
  },
  {
   "cell_type": "code",
   "execution_count": 6,
   "metadata": {},
   "outputs": [
    {
     "name": "stdout",
     "output_type": "stream",
     "text": [
      "1\n",
      "2\n",
      "3\n"
     ]
    }
   ],
   "source": [
    "def my_generator():\n",
    "    yield 1\n",
    "    yield 2\n",
    "    yield 3\n",
    "\n",
    "gen = my_generator()\n",
    "\n",
    "# Using __iter__() explicitly\n",
    "iterator = gen.__iter__()\n",
    "print(iterator.__next__())  # Output: 1\n",
    "print(iterator.__next__())  # Output: 2\n",
    "print(iterator.__next__())  # Output: 3"
   ]
  },
  {
   "cell_type": "code",
   "execution_count": 7,
   "metadata": {},
   "outputs": [
    {
     "name": "stdout",
     "output_type": "stream",
     "text": [
      "1\n",
      "2\n",
      "3\n"
     ]
    }
   ],
   "source": [
    "def my_generator():\n",
    "    yield 1\n",
    "    yield 2\n",
    "    yield 3\n",
    "\n",
    "# Using for loop (implicitly calls __iter__() and __next__())\n",
    "for num in my_generator():\n",
    "    print(num)  # Output: 1, 2, 3\n"
   ]
  },
  {
   "cell_type": "markdown",
   "metadata": {},
   "source": [
    "### Practice Questions\n",
    "\n",
    "1. **Basic Understanding**: What does the `return` statement do in a function?\n",
    "2. **Generator Function**: Write a simple generator function using `yield` to generate the first 5 even numbers.\n",
    "3. **Memory Efficiency**: Explain why `yield` can be more memory efficient than `return` for generating large sequences.\n",
    "4. **State Retention**: How does a function using `yield` retain its state between calls?\n",
    "5. **Use Case Identification**: Provide a scenario where using `yield` would be more beneficial than `return`.\n"
   ]
  },
  {
   "cell_type": "markdown",
   "metadata": {},
   "source": [
    "1. **Basic Understanding**: What does the `return` statement do in a function?\n",
    "\n",
    "* Terminates the function and sends a value back to the caller.\n",
    "* the function stop executing once the `return` called."
   ]
  },
  {
   "cell_type": "markdown",
   "metadata": {},
   "source": [
    "2. **Generator Function**: Write a simple generator function using `yield` to generate the first 5 even numbers."
   ]
  },
  {
   "cell_type": "code",
   "execution_count": 16,
   "metadata": {},
   "outputs": [
    {
     "name": "stdout",
     "output_type": "stream",
     "text": [
      "2\n",
      "4\n"
     ]
    }
   ],
   "source": [
    "# Creating simple function for Generator\n",
    "def even_odd_generator(n):\n",
    "    for i in range(1, n):\n",
    "        if (i%2==0):\n",
    "\t        yield i # in simple function we use retuen but in generator function we use yield keyword to get called value.\n",
    "             \n",
    "n = 5\n",
    "number = even_odd_generator(n)\n",
    "for i in number:\n",
    "    print(i)"
   ]
  },
  {
   "cell_type": "markdown",
   "metadata": {},
   "source": [
    "3. **Memory Efficiency**: Explain why `yield` can be more memory efficient than `return` for generating large sequences.\n",
    "\n",
    "* because `yield` is used to controlling the flow of the generator function. after returning the value from yield, it pauses the execution by saving the states. and that's why `yield` is more memory efficient than `return` statement."
   ]
  },
  {
   "cell_type": "markdown",
   "metadata": {},
   "source": [
    "4. **State Retention**: How does a function using `yield` retain its state between calls?\n"
   ]
  },
  {
   "cell_type": "code",
   "execution_count": null,
   "metadata": {},
   "outputs": [],
   "source": []
  }
 ],
 "metadata": {
  "kernelspec": {
   "display_name": "venv",
   "language": "python",
   "name": "python3"
  },
  "language_info": {
   "codemirror_mode": {
    "name": "ipython",
    "version": 3
   },
   "file_extension": ".py",
   "mimetype": "text/x-python",
   "name": "python",
   "nbconvert_exporter": "python",
   "pygments_lexer": "ipython3",
   "version": "3.11.3"
  }
 },
 "nbformat": 4,
 "nbformat_minor": 2
}
