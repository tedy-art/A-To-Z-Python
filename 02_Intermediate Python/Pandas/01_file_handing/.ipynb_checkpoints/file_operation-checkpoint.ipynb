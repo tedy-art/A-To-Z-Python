{
 "cells": [
  {
   "cell_type": "markdown",
   "metadata": {},
   "source": [
    "# File Handling and file operations"
   ]
  },
  {
   "cell_type": "markdown",
   "metadata": {},
   "source": [
    "**What is file Handling??**\n",
    "- Python file handling is a versatile and powerful machanism to perform operations on file.\n",
    "- python file handling allows user to work on differnt type of files and allows users to perform differnt type of operation of files.\n",
    "- File handling is important as it allows us to store data in file after running a program.\n",
    "\n",
    "  **Advantages**\n",
    "  1) Versatile:\n",
    "     - perform various operations on file e.g. Creating, writing, reading and deleting files.\n",
    "    \n",
    "  2) Flexibility:\n",
    "     - file handing allows users to work on diffient types of file e.g. binary, text, CSV files and allowe users to perform verious operations.\n",
    "    \n",
    "  3) User-friendly:\n",
    "     - user-friendly syntax, simple and short way of file handling.\n",
    "  \n",
    "  4) Cross-platform:\n",
    "     - python file handing perform on various platform e.g. linux, windows and mac\n",
    "   \n",
    "   **Disadvantages :**\n",
    "   1) Error-prone:\n",
    "      - if code is not write poperly or if there is some issue with file system then interpreter throw error.\n",
    "   \n",
    "   2) Security-risk:\n",
    "      - file are not very secure way to use in production level.\n",
    "      - files can be modify easly without security conserns.\n",
    "      - sensitive data can be access by other unauthorized person.\n",
    "\n",
    "   3) Complexity:\n",
    "      - files are become complex while working with advanced file types and operation.\n",
    "     \n",
    "   4) Performace:\n",
    "      - file handing is very slow compairson of other programming language, espacially at the time of working with complex operation and large files."
   ]
  },
  {
   "cell_type": "markdown",
   "metadata": {},
   "source": [
    "**Opening Files in Python :**\n",
    "\n",
    "- the `open()` method is used to open files.\n",
    "  \n",
    "  **Syntax :**\n",
    "  \n",
    "```python\n",
    "var_name = open(\"File_name\", mode)\n",
    "```"
   ]
  },
  {
   "cell_type": "code",
   "execution_count": 3,
   "metadata": {},
   "outputs": [],
   "source": [
    "f = open(\"example.txt\")"
   ]
  },
  {
   "cell_type": "markdown",
   "metadata": {},
   "source": [
    "**mode and it's use:**\n",
    "|mode|Use|\n",
    "|----|---|\n",
    "|r|read only(default)|\n",
    "|w|write mode, if file is already exist then this mode erase exist data and insert new data.|\n",
    "|x|exclusive creation mode, this method fails if file is already exist|\n",
    "|a|append mode, inserts data at end of the file without erasing previous data, create a new file if file dose not exist.|\n",
    "|t|text mode(default)|\n",
    "|b|binary|"
   ]
  },
  {
   "cell_type": "markdown",
   "metadata": {},
   "source": [
    "**Writing file in Python :**\n",
    "- The write() method is used for writing data into a file, for that we need to open file in `w`(write mode).\n",
    "- in `w` mode two things happen:\n",
    "\n",
    "      - if file is not exist then create a new file, and write new data into file.\n",
    "      - if file is exist into dir then, the whole data will be deleted and insert new content.\n"
   ]
  },
  {
   "cell_type": "markdown",
   "metadata": {},
   "source": [
    "1) *Example of open file into write mode and write some content.*"
   ]
  },
  {
   "cell_type": "code",
   "execution_count": 4,
   "metadata": {},
   "outputs": [],
   "source": [
    "# Example of open file into write mode and write some content.\n",
    "with open('example.txt', 'w') as f:\n",
    "    # write data to the file.\n",
    "    f.write('Hey!!! Welcome')\n",
    "    f.write(\"Here is an example of file handling..\")"
   ]
  },
  {
   "cell_type": "markdown",
   "metadata": {},
   "source": [
    "2) Example: if file dose not exist then it will create a new file and insert some conent."
   ]
  },
  {
   "cell_type": "code",
   "execution_count": 5,
   "metadata": {},
   "outputs": [],
   "source": [
    "with open('file_that_dose_not_exist_first.txt', 'w') as f:\n",
    "    # write data to the file.\n",
    "    f.write('Hey!!! Welcome to newly created file\\n')\n",
    "    f.write(\"Here is an example of create and insert new data..\")"
   ]
  },
  {
   "cell_type": "markdown",
   "metadata": {},
   "source": [
    "**Reading files in pyhton :**\n",
    "- `read()` used to read data from file and we need to open file in `r` mode."
   ]
  },
  {
   "cell_type": "code",
   "execution_count": 6,
   "metadata": {},
   "outputs": [
    {
     "name": "stdout",
     "output_type": "stream",
     "text": [
      "Hey!!! WelcomeHere is an example of file handling..\n"
     ]
    }
   ],
   "source": [
    "# opning file\n",
    "f = open('example.txt', 'r')\n",
    "\n",
    "# reading file data of the file\n",
    "file_data = f.read()\n",
    "print(file_data)"
   ]
  },
  {
   "cell_type": "markdown",
   "metadata": {},
   "source": [
    "**Closing file**\n",
    "- closing a file is good practise and it will prevent errors\n",
    "- also it will release all the resorses that are bound with the file"
   ]
  },
  {
   "cell_type": "code",
   "execution_count": 7,
   "metadata": {},
   "outputs": [
    {
     "name": "stdout",
     "output_type": "stream",
     "text": [
      "Hey!!! WelcomeHere is an example of file handling..\n"
     ]
    }
   ],
   "source": [
    "#  opning file\n",
    "f = open('example.txt', 'r')\n",
    "\n",
    "# reading file data of the file\n",
    "file_data = f.read()\n",
    "print(file_data)\n",
    "\n",
    "# closing file\n",
    "f.close()"
   ]
  },
  {
   "cell_type": "markdown",
   "metadata": {},
   "source": [
    "**Exception hadling in Files:**\n",
    "- if any issue(exception) occurs while working with file then the program will exit automatically without closing the file, so we should `try...finally` for saffer side."
   ]
  },
  {
   "cell_type": "code",
   "execution_count": 8,
   "metadata": {},
   "outputs": [
    {
     "name": "stdout",
     "output_type": "stream",
     "text": [
      "Hey!!! Welcome to newly created file\n",
      "Here is an example of create and insert new data..\n"
     ]
    }
   ],
   "source": [
    "try:\n",
    "    f = open('file_that_dose_not_exist_first.txt', 'r')\n",
    "    file_data = f.read()\n",
    "    print(file_data)\n",
    "finally:\n",
    "    # closing file\n",
    "    f.close()"
   ]
  },
  {
   "cell_type": "markdown",
   "metadata": {},
   "source": [
    "**Creating and writing files :**\n",
    "- `write()` method used to write new content in a file.\n",
    "      - if file dose not exsit then it will create a new file.\n",
    "      - if file is exsit then `write()` erase existing data and insert new data."
   ]
  },
  {
   "cell_type": "code",
   "execution_count": 9,
   "metadata": {},
   "outputs": [],
   "source": [
    "with open('example2.txt', 'w') as f:\n",
    "    f.write(\"Hey!! Welcome\")"
   ]
  },
  {
   "cell_type": "markdown",
   "metadata": {},
   "source": [
    "**Append Mode in file Handling :**\n",
    "- if file is exist then it will insert new data end of the existing data.\n",
    "- if file is not exist then it will create a new file and then insert new data."
   ]
  },
  {
   "cell_type": "code",
   "execution_count": 10,
   "metadata": {},
   "outputs": [],
   "source": [
    "f = open('example.txt', 'a')\n",
    "f.write(\"Inserting data to demonstrate append mode example.\")\n",
    "f.close()"
   ]
  },
  {
   "cell_type": "markdown",
   "metadata": {},
   "source": [
    "### Implementing all the function in file handling.."
   ]
  },
  {
   "cell_type": "code",
   "execution_count": 13,
   "metadata": {},
   "outputs": [
    {
     "name": "stdout",
     "output_type": "stream",
     "text": [
      "File Creation Successful\n",
      "Hey!!! welcome...\n",
      "File reading successful\n",
      "Appeneded data successful\n",
      "Hey!!! welcome...add data for demostrating append method or mode\n",
      "File reading successful\n",
      "File renaming successful\n",
      "Hey!!! welcome...add data for demostrating append method or mode\n",
      "File reading successful\n",
      "File deletion successful\n"
     ]
    }
   ],
   "source": [
    "import os\n",
    "\n",
    "# Method for file creation\n",
    "def file_creation(file_name):\n",
    "    try:\n",
    "        with open(file_name, 'w') as file:\n",
    "            file.write('Hey!!! welcome...')\n",
    "        print(\"File Creation Successful\")\n",
    "    except IOError:\n",
    "        print(\"Error!! File creation Failed\")\n",
    "\n",
    "# Method for reading data from the file\n",
    "def file_reading(file_name):\n",
    "    try:\n",
    "        with open(file_name, 'r') as file:\n",
    "            file_content = file.read()\n",
    "            print(file_content)\n",
    "        print(\"File reading successful\")\n",
    "    except IOError:\n",
    "        print(\"Error!! File reading failed\")\n",
    "\n",
    "# Method for appending data into the file\n",
    "def data_appending(file_name, data):\n",
    "    try:\n",
    "        with open(file_name, 'a') as file:\n",
    "            file.write(data)\n",
    "        print(\"Appeneded data successful\")\n",
    "    except IOError:\n",
    "        print(\"Error! data appending failed.\")\n",
    "\n",
    "\n",
    "# Rename file\n",
    "def file_renaming(file_name, new_name):\n",
    "    try:\n",
    "        os.rename(file_name, new_name)\n",
    "        print(\"File renaming successful\")\n",
    "    except IOError:\n",
    "        print(\"Error! file renaming failed\")\n",
    "\n",
    "# method for deletion of file\n",
    "def file_deletion(file_name):\n",
    "    try:\n",
    "        os.remove(file_name)\n",
    "        print(\"File deletion successful\")\n",
    "    except IOError:\n",
    "        print(\"Error! file deletion failed\")\n",
    "\n",
    "if __name__ == '__main__':\n",
    "    file_name = \"example3.txt\"\n",
    "    new_name = \"example4.txt\"\n",
    "\n",
    "\n",
    "    file_creation(file_name)\n",
    "    file_reading(file_name)\n",
    "    data_appending(file_name, 'add data for demostrating append method or mode')\n",
    "    file_reading(file_name)\n",
    "    file_renaming(file_name, new_name)\n",
    "    file_reading(new_name)\n",
    "    file_deletion(new_name)"
   ]
  },
  {
   "cell_type": "code",
   "execution_count": null,
   "metadata": {},
   "outputs": [],
   "source": []
  }
 ],
 "metadata": {
  "kernelspec": {
   "display_name": "Python 3 (ipykernel)",
   "language": "python",
   "name": "python3"
  },
  "language_info": {
   "codemirror_mode": {
    "name": "ipython",
    "version": 3
   },
   "file_extension": ".py",
   "mimetype": "text/x-python",
   "name": "python",
   "nbconvert_exporter": "python",
   "pygments_lexer": "ipython3",
   "version": "3.11.3"
  }
 },
 "nbformat": 4,
 "nbformat_minor": 4
}
